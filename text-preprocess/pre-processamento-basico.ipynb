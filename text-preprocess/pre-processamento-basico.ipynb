{
 "cells": [
  {
   "cell_type": "markdown",
   "metadata": {},
   "source": [
    "# Pré-processamento de Texto em Python"
   ]
  },
  {
   "cell_type": "markdown",
   "metadata": {},
   "source": [
    "Existem diversas etapas diferentes envolvendo o pré-processamento de um texto em python. A aplicação em que será empregado pode gerar variações na ordem destas etapas, bem como possibilitar que algumas sejam omitidas. Neste _notebook_ exploraremos uma alternativa para cumprir a tarefa de forma mais genérica."
   ]
  },
  {
   "cell_type": "markdown",
   "metadata": {},
   "source": [
    "1. [Remoção de tags HTML](#Remo%C3%A7%C3%A3o-de-tags-HTML)\n",
    "1. [Tratamento-para-Acentuação](#Tratamento-para-Acentua%C3%A7%C3%A3o)\n",
    "1. [Tokenização](#Tokeniza%C3%A7%C3%A3o)\n",
    "1. [Tratamento para Números](#Tratamento-para-N%C3%BAmeros)\n",
    "1. [Remoção de _Stop Words_](#Remo%C3%A7%C3%A3o-de-Stop-Words)\n",
    "1. [Lemmatização e _Stemming_](#Lematiza%C3%A7%C3%A3o-e-Stemming)\n",
    "\n",
    "[Referências](#Refer%C3%AAncias)"
   ]
  },
  {
   "cell_type": "markdown",
   "metadata": {},
   "source": [
    "## Preparando o Dataset\n",
    "\n",
    "Começaremos carregando um dataset para exemplificarmos as decisões a serem tomadas. O dataset em questão é o _[COVID-19 News Articles Open Research Dataset](https://www.kaggle.com/ryanxjhan/cbc-news-coronavirus-articles-march-26)_."
   ]
  },
  {
   "cell_type": "code",
   "execution_count": 4,
   "metadata": {},
   "outputs": [
    {
     "data": {
      "text/html": [
       "<div>\n",
       "<style scoped>\n",
       "    .dataframe tbody tr th:only-of-type {\n",
       "        vertical-align: middle;\n",
       "    }\n",
       "\n",
       "    .dataframe tbody tr th {\n",
       "        vertical-align: top;\n",
       "    }\n",
       "\n",
       "    .dataframe thead th {\n",
       "        text-align: right;\n",
       "    }\n",
       "</style>\n",
       "<table border=\"1\" class=\"dataframe\">\n",
       "  <thead>\n",
       "    <tr style=\"text-align: right;\">\n",
       "      <th></th>\n",
       "      <th>Unnamed: 0</th>\n",
       "      <th>authors</th>\n",
       "      <th>title</th>\n",
       "      <th>publish_date</th>\n",
       "      <th>description</th>\n",
       "      <th>text</th>\n",
       "      <th>url</th>\n",
       "    </tr>\n",
       "  </thead>\n",
       "  <tbody>\n",
       "    <tr>\n",
       "      <th>0</th>\n",
       "      <td>0</td>\n",
       "      <td>[]</td>\n",
       "      <td>'More vital now:' Gay-straight alliances go vi...</td>\n",
       "      <td>2020-05-03 1:30</td>\n",
       "      <td>Lily Overacker and Laurell Pallot start each g...</td>\n",
       "      <td>Lily Overacker and Laurell Pallot start each g...</td>\n",
       "      <td>https://www.cbc.ca/news/canada/calgary/gay-str...</td>\n",
       "    </tr>\n",
       "    <tr>\n",
       "      <th>1</th>\n",
       "      <td>1</td>\n",
       "      <td>[]</td>\n",
       "      <td>Scientists aim to 'see' invisible transmission...</td>\n",
       "      <td>2020-05-02 8:00</td>\n",
       "      <td>Some researchers aim to learn more about how t...</td>\n",
       "      <td>This is an excerpt from Second Opinion, a week...</td>\n",
       "      <td>https://www.cbc.ca/news/technology/droplet-tra...</td>\n",
       "    </tr>\n",
       "    <tr>\n",
       "      <th>2</th>\n",
       "      <td>2</td>\n",
       "      <td>['The Canadian Press']</td>\n",
       "      <td>Coronavirus: What's happening in Canada and ar...</td>\n",
       "      <td>2020-05-02 11:28</td>\n",
       "      <td>Canada's chief public health officer struck an...</td>\n",
       "      <td>The latest:  The lives behind the numbers: Wha...</td>\n",
       "      <td>https://www.cbc.ca/news/canada/coronavirus-cov...</td>\n",
       "    </tr>\n",
       "    <tr>\n",
       "      <th>3</th>\n",
       "      <td>3</td>\n",
       "      <td>[]</td>\n",
       "      <td>B.C. announces 26 new coronavirus cases, new c...</td>\n",
       "      <td>2020-05-02 18:45</td>\n",
       "      <td>B.C. provincial health officer Dr. Bonnie Henr...</td>\n",
       "      <td>B.C. provincial health officer Dr. Bonnie Henr...</td>\n",
       "      <td>https://www.cbc.ca/news/canada/british-columbi...</td>\n",
       "    </tr>\n",
       "    <tr>\n",
       "      <th>4</th>\n",
       "      <td>4</td>\n",
       "      <td>[]</td>\n",
       "      <td>B.C. announces 26 new coronavirus cases, new c...</td>\n",
       "      <td>2020-05-02 18:45</td>\n",
       "      <td>B.C. provincial health officer Dr. Bonnie Henr...</td>\n",
       "      <td>B.C. provincial health officer Dr. Bonnie Henr...</td>\n",
       "      <td>https://www.cbc.ca/news/canada/british-columbi...</td>\n",
       "    </tr>\n",
       "  </tbody>\n",
       "</table>\n",
       "</div>"
      ],
      "text/plain": [
       "   Unnamed: 0                 authors  \\\n",
       "0           0                      []   \n",
       "1           1                      []   \n",
       "2           2  ['The Canadian Press']   \n",
       "3           3                      []   \n",
       "4           4                      []   \n",
       "\n",
       "                                               title      publish_date  \\\n",
       "0  'More vital now:' Gay-straight alliances go vi...   2020-05-03 1:30   \n",
       "1  Scientists aim to 'see' invisible transmission...   2020-05-02 8:00   \n",
       "2  Coronavirus: What's happening in Canada and ar...  2020-05-02 11:28   \n",
       "3  B.C. announces 26 new coronavirus cases, new c...  2020-05-02 18:45   \n",
       "4  B.C. announces 26 new coronavirus cases, new c...  2020-05-02 18:45   \n",
       "\n",
       "                                         description  \\\n",
       "0  Lily Overacker and Laurell Pallot start each g...   \n",
       "1  Some researchers aim to learn more about how t...   \n",
       "2  Canada's chief public health officer struck an...   \n",
       "3  B.C. provincial health officer Dr. Bonnie Henr...   \n",
       "4  B.C. provincial health officer Dr. Bonnie Henr...   \n",
       "\n",
       "                                                text  \\\n",
       "0  Lily Overacker and Laurell Pallot start each g...   \n",
       "1  This is an excerpt from Second Opinion, a week...   \n",
       "2  The latest:  The lives behind the numbers: Wha...   \n",
       "3  B.C. provincial health officer Dr. Bonnie Henr...   \n",
       "4  B.C. provincial health officer Dr. Bonnie Henr...   \n",
       "\n",
       "                                                 url  \n",
       "0  https://www.cbc.ca/news/canada/calgary/gay-str...  \n",
       "1  https://www.cbc.ca/news/technology/droplet-tra...  \n",
       "2  https://www.cbc.ca/news/canada/coronavirus-cov...  \n",
       "3  https://www.cbc.ca/news/canada/british-columbi...  \n",
       "4  https://www.cbc.ca/news/canada/british-columbi...  "
      ]
     },
     "execution_count": 4,
     "metadata": {},
     "output_type": "execute_result"
    }
   ],
   "source": [
    "import pandas as pd\n",
    "\n",
    "raw_dataset = pd.read_csv(\"../datasets/cbc-news-coronavirus/news.csv\", nrows=15)\n",
    "\n",
    "# Apenas a coluna com o conteúdo das notícias nos interessa agora\n",
    "dataset = pd.DataFrame(raw_dataset[\"text\"])\n",
    "\n",
    "# Início do dataset completo\n",
    "raw_dataset.head()"
   ]
  },
  {
   "cell_type": "code",
   "execution_count": 5,
   "metadata": {},
   "outputs": [
    {
     "data": {
      "text/html": [
       "<div>\n",
       "<style scoped>\n",
       "    .dataframe tbody tr th:only-of-type {\n",
       "        vertical-align: middle;\n",
       "    }\n",
       "\n",
       "    .dataframe tbody tr th {\n",
       "        vertical-align: top;\n",
       "    }\n",
       "\n",
       "    .dataframe thead th {\n",
       "        text-align: right;\n",
       "    }\n",
       "</style>\n",
       "<table border=\"1\" class=\"dataframe\">\n",
       "  <thead>\n",
       "    <tr style=\"text-align: right;\">\n",
       "      <th></th>\n",
       "      <th>text</th>\n",
       "    </tr>\n",
       "  </thead>\n",
       "  <tbody>\n",
       "    <tr>\n",
       "      <th>0</th>\n",
       "      <td>Lily Overacker and Laurell Pallot start each g...</td>\n",
       "    </tr>\n",
       "    <tr>\n",
       "      <th>1</th>\n",
       "      <td>This is an excerpt from Second Opinion, a week...</td>\n",
       "    </tr>\n",
       "    <tr>\n",
       "      <th>2</th>\n",
       "      <td>The latest:  The lives behind the numbers: Wha...</td>\n",
       "    </tr>\n",
       "    <tr>\n",
       "      <th>3</th>\n",
       "      <td>B.C. provincial health officer Dr. Bonnie Henr...</td>\n",
       "    </tr>\n",
       "    <tr>\n",
       "      <th>4</th>\n",
       "      <td>B.C. provincial health officer Dr. Bonnie Henr...</td>\n",
       "    </tr>\n",
       "  </tbody>\n",
       "</table>\n",
       "</div>"
      ],
      "text/plain": [
       "                                                text\n",
       "0  Lily Overacker and Laurell Pallot start each g...\n",
       "1  This is an excerpt from Second Opinion, a week...\n",
       "2  The latest:  The lives behind the numbers: Wha...\n",
       "3  B.C. provincial health officer Dr. Bonnie Henr...\n",
       "4  B.C. provincial health officer Dr. Bonnie Henr..."
      ]
     },
     "execution_count": 5,
     "metadata": {},
     "output_type": "execute_result"
    }
   ],
   "source": [
    "# Início do dataset resumido\n",
    "dataset.head()"
   ]
  },
  {
   "cell_type": "code",
   "execution_count": 6,
   "metadata": {},
   "outputs": [
    {
     "name": "stdout",
     "output_type": "stream",
     "text": [
      "The latest:  The lives behind the numbers: What we know about the first 1,000 COVID-19 deaths in Canada. Health expert urges provinces to 'find the middle ground' as they begin to reopen. Canadians have lost more than $1.2 million to COVID-19 scams. Canada is officially in a recession, C.D. Howe Institute says. Major U.S. airlines to require passengers to wear masks. Nova Scotia is easing some of its COVID-19 restrictions. Ontario allowing some businesses to reopen under strict guidelines. EI claimants are going weeks without income as federal call system slows to a crawl. INTERACTIVE | See the latest data on coronavirus cases in Canada. Have a coronavirus question or news tip for CBC News? Email: Covid@cbc.ca  Canada's chief public health officer struck an optimistic tone about the COVID-19 pandemic on Saturday, saying that efforts to flatten the curve are working as provinces across the country reported more positive figures. \"By following public health recommendations, we have collectively brought down the rate of infection. We are flattening the curve,\" said Dr. Theresa Tam in a news release, as federal medical officials and the prime minister took a break from their daily news conferences. \"While we can continue to be cautiously optimistic, it is important that everyone remains aware of our duty to protect one another, especially those who are most vulnerable, as we navigate the next few weeks.\" New Brunswick reported it had no more active cases of COVID-19 as of Saturday after two weeks without a new infection and in Ontario, Premier Doug Ford said his province could get through the pandemic faster than previously expected. Ontario Premier Doug Ford and other officials practice physical distancing at a COVID-19 briefing at Queen's Park in Toronto on Saturday. (Rick Madonik/The Canadian Press) \"We're seeing a gradual downward slope in the public domain and the lower we get, the more we can open up and get back to the new normal,\" Ford said. \"I don't know the exact time … but if we keep going the way we're going, we're going to get out of this a lot sooner than we thought we might've been able to get out a couple of months ago.\"  What offices might look like in a post-COVID world  At Ontario's legislature, demonstrators gathered for a second Saturday in a row for an anti-lockdown protest. Ford blasted the protesters for disrespecting the Canadian flag by flying it upside down during the demonstration. \"I understand, people are hurting out there, and people want to get back out there,\" said Ford. But he said that flying the flag upside down disrespects members of the Armed Forces who are overseas, as well as those helping in long-term facilities in Ontario. \"What they're doing is putting their lives in jeopardy as far as I'm concerned with congregating side-by-side.\" Protesters gather to demand Ontario reopen at Queen Park in Toronto on Saturday.  (Natalie Kalata/CBC) Ford said he respected their right to protest but wondered aloud whether it's fair that mothers with their children receive fines for being in parks while anti-lockdown protesters aren't fined. Provinces across Canada are preparing to start relaxing lockdown rules in the coming week. Businesses, such as gardening centres and auto dealerships, will be allowed to open in Ontario on Monday, while residents in Newfoundland and Labrador will now be permitted to interact with one other household other than their own. WATCH | Canada's economy to be particularly hard hit by COVID-19, says expert: Canada faces several economic disadvantages as it emerges from the pandemic but having the U.S. as its major trading partner could help, says Peter Hall, the chief economist for Export Development Canada.   7:36 Quebec has announced plans to gradually reopen daycares, elementary schools, retail businesses, construction and manufacturing during the month of May. Ford agreed with Quebec Premier François Legault by saying that the fight against COVID-19 is now separated between the battle in long-term care homes and the general public. \"There's two different worlds. Right now, we're fighting this virus, one in long-term care homes and one in the public domain,\" Ford said. \"In the public domain, everyone has done an incredible job … and that's the reason why we see the trend going down.\" People use a measuring tape to keep a safe distance as they sit in a park in Montreal on Saturday. (Graham Hughes/The Canadian Press) British Columbia's top medical official, Dr. Bonnie Henry, urged people to stay vigilant, asking anyone with symptoms to contact health officials and take measures to protect their family and community members. \"It is far too easy to tip the scales against us and undo the hard work and sacrifice that everybody here in B.C. has made,\" she said Saturday. \"We cannot afford any missteps as we look to ease our restrictions in the coming days and weeks.\" WATCH | Personal support workers reusing masks amid PPE shortage: Some personal support workers are using the same protective mask multiple times a day while going in and out of care homes because they worry about running out. 2:03 Meanwhile, Prime Minister Justin Trudeau spoke with New Zealand's Prime Minister Jacinda Ardern to share information about fighting the pandemic while protecting the economy. A readout of the call said the two leaders also spoke about the need to keep supply chains working throughout the global crisis, particularly in regards to medical supplies. New Zealand has widely been seen as a success story in the effort to curb the spread of COVID-19.  Health expert warns reopening provincial economies will be 'tricky'  As of Saturday evening, Canada had 56,714 confirmed and presumptive coronavirus cases, with the majority concentrated in Ontario and Quebec. Provinces and territories list 23,814 of the cases as resolved or recovered. A CBC News tally of COVID-19-related deaths based on provincial data, regional health information and CBC's reporting lists 3,656 deaths in Canada and two known coronavirus-related deaths of Canadians abroad. The contagious respiratory illness causes mild or moderate symptoms for most people. For some, especially older adults and people with existing health problems, it can cause more severe illness or death. There is no proven treatment or vaccine for the virus, which first emerged in China in late 2019. What's happening in the provinces and territories British Columbia's provincial health officer, Dr. Bonnie Henry, announced on Saturday a new community outbreak at a poultry plant, where there are three confirmed cases. Henry also said there were 26 new COVID-19 cases in the province on Saturday, bringing the current total to 2,171. Henry also said B.C. can't mimic New Zealand, which has received global praise for its response. Those countries do not share a border with a country hard hit by the virus like the U.S., she noted. \"We are very close to a very large country that is having itself a very large outbreak. As we know, early on, Washington state had a dramatic increase in cases that affected us quite dramatically here in B.C.,\" Henry said. \"So it's a balance, we all have our own approach.\" Read more about what's happening in B.C. WATCH | Travellers arriving in B.C. met with strict quarantine instructions: As travellers land in B.C., they are expected to have detailed quarantine plans and will receive followup calls a few days later. 2:07 Alberta reported 97 new cases on Saturday, the first time in weeks the daily new cases dropped below 100. The province also reported two new deaths. This weekend marks the first days of Alberta's tiered relaunch strategy, with an emphasis on outdoor activities. Provincial parks and some boat launches were reopened with limited services on Friday. Golfers were permitted to hit the fairway on Saturday after the province issued a set of guidelines to course operators intended to reduce the risk of transmission. Read more about what's happening in Alberta.   WATCH | Edmonton grandma overcomes broken pelvis, pneumonia and COVID-19: Edmonton grandma overcomes broken pelvis, pneumonia and COVID-19. 0:41 Saskatchewan announced that its number of cases has climbed to 421, with six new cases recorded on Saturday. Of the new cases included in the update, four are in the North, one is in Saskatoon and one is in Regina. Northern leaders say drastic action may have to be taken unless more people start following public health orders, as they say some people are still trying to go around the restrictions. Read more about what's happening in Saskatchewan. Manitoba reported one new case on Saturday. The province says there is also one more hospitalization, bringing the total to six. Read more about what's happening in Manitoba. WATCH | Winnipeg couple of 70 years 'connect' through window amid restrictions: Winnipeg couple of 70 years 'connect' through window amid COVID-19 restrictions 1:34 Ontario health officials are urging residents to keep up physical distancing measures as the province sees the warmest weather in months. \"I don't mind people going outside, people getting exercise, but plan it. Don't just go out and go to the most crowded places,\" said Chief Medical Officer of Health Dr. David Williams.  Various prevention measures have been put in place by officials across Ontario to slow the spread outdoors, including the temporary closure of provincial parks and public outdoor spaces and amenities. But as temperatures climb, so have the number of cases. The province reported 511 new confirmed cases on Saturday, an increase from the 421 cases reported on Friday. Read more about what's happening in Ontario.  People sitting in lawn chairs practice physical distancing as they chat in the Ottawa community of Carp on Saturday. (Justin Tang/The Canadian Press) Quebec's director of public health says the province is launching a more \"aggressive\" testing strategy as it begins to loosen pandemic restrictions. Dr. Horacio Arruda says Quebec is planning to conduct 14,000 tests a day, up from roughly 6,000 tests a day that it's currently doing.  The province wants to start testing regular citizens, including some without symptoms. Until late this week, Quebec was only testing essential workers with symptoms, with a focus on health-care workers. Read more about what's happening in Quebec. A health-care worker prepares to give a COVID-19 test at a clinic in Montreal on Saturday. (Graham Hughes/The Canadian Press) New Brunswick is COVID-19 free, according to the latest numbers from the province. The province says there were no new cases on Saturday — for the 14th straight day — and all 118 cases have now recovered. That makes New Brunswick the only province without a confirmed active case in the country. Read more about what's happening in N.B. Nova Scotia is reporting two more deaths at the Northwood long-term care home in Halifax. That brings the death toll in the province to 31. The province also reported four news cases, bringing the total number of positive cases to 963. To date, 609 people have recovered from COVID-19. Twelve people are in hospital, including three in intensive care. Read more about what's happening in N.S. A paramedic and an ambulance is seen at Northwood Manor, one of the largest nursing homes in Atlantic Canada, in Halifax on Friday. (Andrew Vaughan/The Canadian Press) In Prince Edward Island, Phase 1 of the province's plan to ease restrictions is now in its second day. Charlottetown Mayor Philip Brown said there will be increased monitoring in city parks this weekend to ensure physical distancing is taking place now that groups of up to five people are allowed to gather outside. Read more about what's happening on P.E.I. Newfoundland and Labrador has no new reported cases of COVID-19 on Saturday. According to a news release issued by the provincial government, the number of total cases in the province remains at 259. Saturday is the fifth day this week without any new reported cases of COVID-19 in the province, with only three new cases since April 18. Read more about what's happening in N.L. It's a hard road for truckers these days. But now there are hot meals and friendly smiles along the way - and both are free. <br><br>Read the full story: <a href=\"https://t.co/2waGuP1Oc2\">https://t.co/2waGuP1Oc2</a><a href=\"https://twitter.com/hashtag/Covid19nfld?src=hash&amp;ref_src=twsrc%5Etfw\">#Covid19nfld</a> <a href=\"https://t.co/Vi92XMwNTv\">pic.twitter.com/Vi92XMwNTv</a>&mdash;@CBCNL In Canada's North,  all of Yukon's 11 confirmed cases of COVID-19 have recovered. Meanwhile, Yukon Justice Minister Tracy-Anne McPhee announced Friday that someone has been charged under Yukon's Civil Emergency Measures Act for allegedly failing to self-isolate as required. Read more about what's happening across the North. WATCH | Yellowknife's sanitation workers keep working amid pandemic: Kavanaugh Brothers owner and general manager Peter Houweling shares what he's doing differently to keep trash collection going in the middle of a pandemic. 3:06 What's happening in the U.S. New York Gov. Andrew Cuomo on Saturday pushed back against what he called premature demands that he reopen the state, saying he knew people were struggling without jobs but that more understanding of the coronavirus was needed. As governors in about half the United States partially reopen their economies over this weekend, Cuomo said he needed much more information on what the pandemic is doing in his hardest-hit state before he loosens restrictions. \"Even when you are in unchartered waters, it doesn't mean you proceed blindly,\" he said. \"Use information to determine action, not emotions, not politics, not what people think or feel but what we know in terms of facts.\" New York Gov. Cuomo sprays disinfectant in a New York City subway car on Saturday. (Kevin P. Coughlin/Office of Governor Andrew M. Cuomo via AP) New Jersey Gov. Phil Murphy echoed Cuomo's slow-go restart approach, even as he reported \"positive trends,\" including a decline in the number of hospital patients with COVID-19. While the number of deaths has trended lower in recent days, New Jersey's toll, second only to New York's, stood at 7,742, which Murphy cited as a key reason for maintaining his stay-at-home order. \"The family, friends and neighbours who we have lost are the reason why we cannot rush our restart,\" he said at a news briefing. \"We need to keep seeing these lines moving in these directions before we can put New Jersey on the road back, and before we're able to responsibly restart our economy.\" A cyclist rides past a traffic barrel posted with a sign restricting parking to residents only in Belmar, N.J., on Saturday. (Matt Rourke/The Associated Press) As many U.S. eastern seaboard residents enjoyed a perfect spring day on Saturday, those in New Jersey had access to more outdoor space as Murphy allowed the state's parks and golf courses to reopen for the first time in a month, warning they would be shut again if social distancing requirements were violated. \"Anecdotal and preliminary reports suggest that the rules were being observed, he said. Georgia and Texas are leading the way in letting businesses shuttered by the pandemic begin partially reopening. Leaders in those and several other states where the coronavirus has had less of an impact are under pressure to allow people to return to work as government data released this week showed 30 million Americans have sought unemployment benefits since March 21. A worker wipes down an escalator at a mall in Dallas on Saturday. (LM Otero/The Associated Press) Cuomo pointed to the roughly 900 new coronavirus cases hospitals in New York are still reporting daily, and the fact that officials do not know where those infections are coming from, as reason enough to keep the Empire State shutdown. The governor also released the preliminary results of a statewide antibody survey of about 15,000 people showing that 12.3 per cent were previously infected with the virus. It confirmed the results of another test with a smaller sample size released about 10 days ago showing that one in five New York City residents has had the virus, with the Bronx bureau seeing the highest number positive for antibodies at 27.6 per cent. A worker measures the temperature of Puerto Rico National Guard Gen. Jose Reyes in Ponce, Puerto Rico, on Saturday. (Carlos Giusti/The Associated Press) As of Saturday, the number of known infections across the U.S. had climbed to more than 1.1 million, including about 66,000 deaths, according to a Johns Hopkins University tally. As testing increases across the country, so does the number of cases. North Carolina on Saturday posted a record number of new cases with 551 infections, as did Puerto Rico, with 182. Iowa hit a record for the second straight day. Overall in the U.S., there were 34,000 new cases on Friday, the highest daily total since April 24. What's happening around the world Russia reported a sharp spike in its daily tally of COVID-19 cases, with a new one-day high of 9,633 on Saturday. That's a 20 per cent increase from the previous day's count. More than half of the new cases were reported in Moscow, where concern is growing about whether hospitals could become overwhelmed. The Russian capital's mayor said this week officials are considering establishing temporary hospitals at sports complexes and shopping malls. According to a tally by Johns Hopkins University, Russia has more than 124,000 cases and 1,222 deaths. A medical worker leaves a tent at a COVID-19 testing point central Moscow on Saturday. (Yuri Kadobnov/AFP via Getty Images) Spain's prime minister, Pedro Sanchez, announced on Saturday that commuters on transit will be required to wear masks starting Monday. Sanchez says he'll ask the parliament for an extension of the state of emergency established March 14 and set to expire on May 9. The announcement comes as Spaniards were allowed outdoors to exercise for the first time in seven weeks. People ran, walked or rode bicycles under a sunny sky in Barcelona, where many flocked to the maritime promenade to get close to the still off-limits beach. Others jogged around parks and along sidewalks across the nation. Spain's death toll for the virus reached 25,100 after 276 more people died in the last 24 hours. That's down from more than 900 daily deaths reported a month ago. The total confirmed infections reached 216,582, with another 1,147 reported cases in the last day. People are seen at a seafront promenade Barcelona on Saturday. (Emilio Morenatti/The Associated Press) Britain's Department of Health says a total of 28,131 people have died in hospitals, care homes and the wider community after testing positive for COVID-19 in the United Kingdom, an increase of 621 from the previous tally. The U.K. has more than 183,000 cases, according to Johns Hopkins University. Prime Minister Boris Johnson on Thursday told the nation that Britain had passed its peak in the outbreak, and said he has plans to reveal a \"road map\" outlining how lockdown steps might be eased in the coming week. Police officers patrol with a megaphone instructing people to keep moving in an effort to keep groups from forming in London's Greenwich Park on Saturday. (Yui Mok/PA via AP) France hopes to extend the health emergency put in place to fight the crisis until July 24. Health Minister Olivier Veran made the announcement on Saturday, arguing that the extension of the measures that began March 24 is required to prevent a new flareup of infections. The proposal, which will be put to the French parliament next week and is expected to pass, is centred on the notion that a \"premature\" relaxing the state of emergency \"could see a risk of the outbreak\" increasing. France is among countries most affected by the pandemic, having recorded some 24,594 deaths and 167,346 confirmed cases so far. The new proposals include a data system for those that have contracted the virus, that will function for up to a year. A pharmacist serves a customer from behind newly installed see-through protective screens in Nice, France, on Saturday. (Valery Hache/AFP via Getty Images) In Malaysia, Senior Minister Ismail Sabri defended the mass arrest of immigrants without valid documents in viral hotspots. Sabri says 586 immigrants were detained during an operation Friday in several buildings under strict lockdown in Kuala Lumpur. He says they all tested negative for the virus and have been sent to detention camps for breaching immigration laws. Rights groups have slammed the government for breaking its promise to not act against migrants who come out for virus screening. They say the inhumane move during a pandemic could hamper efforts to curb the virus's spread. Ismail brushed off the criticism Saturday, saying authorities were acting within the law. He says Malaysia has taken care of the immigrants' welfare during the lockdown, but they must face the law as they have no valid documents. Malaysia, which has 6,176 cases and 103 deaths, will let most businesses reopen Monday before a partial lockdown ends May 12. A medical worker performs temperature checks at a hospital in Kuala Lumpur, Malaysia, on Saturday. (Rahman Roslan/Getty Images) China, where the pandemic began in December, reported one new infection and no deaths in the 24 hours through midnight Friday. The country has reported a total of 82,875 confirmed cases and 4,633 deaths. The National Health Commission reported 43 people were released from hospitals Friday after being declared recovered, raising the total to 77,685. There were a total 557 people still hospitalized on the mainland. A passenger wears a hazmat suit as they wait for a train at Hankou Railway Station in Wuhan, China, on Saturday. (AFP via Getty Images) Africa now has more than 40,000 COVID-19 cases. That's according to the Africa Centers for Disease Control and Prevention. There have been more than 1,600 deaths across the continent. Fifty-three of Africa's 54 countries have confirmed cases, all but tiny, mountainous Lesotho, which is surrounded by South Africa. A Ministry of Health staff member takes samples from a child during the first day of mass testing in Djibouti on Saturday. (AFP via Getty Images) In Brazil, rioting inmates in the northern state of Amazonas held seven guards hostage for several hours on Saturday, protesting against the suspension of all visits amid the pandemic, authorities said. After more than five tense hours, the state's public security secretariat said the situation inside the Puraquequara prison in the city of Manaus had been brought under control without any casualties and the guards freed. Manaus has become one of Brazil's COVID-19 hotspots, with 3,941 confirmed cases and 357 deaths as of Friday, data from the state's health secretary show. The pandemic has overwhelmed the city's hospitals, emergency response and even cemeteries, where mass burials occur on a regular basis and coffins threaten to run out. Brazil has the most cases and deaths in Latin America, with more than 92,000 infections and over 6,400 deaths. President Jair Bolsonaro has repeatedly downplayed the pandemic and called for the end of lockdown measures. Military police secure the perimeter of the  Puraquequara prison as inmates stand on a water tower protesting against bad conditions and restrictions on family visits in Manaus, Brazil, on Saturday. (Edmar Barros/The Associated Press) Turkey's health minister has announced 78 new deaths in the past 24 hours, bringing the death toll from COVID-19 to 3,336. The minister tweeted Saturday that an additional 1,983 had been infected, increasing the total to 124,375. \"For the first time since March 30, the daily case number has fallen below 2,000,\" he tweeted. The new number leaves Turkey ranked seventh in the world for highest infection rate from the coronavirus. Russia's confirmed infections of 124,054 had briefly surpassed Turkey's. The minister also tweeted that 58,259 people have recovered from COVID-19, including 4,451 since Friday. \n"
     ]
    }
   ],
   "source": [
    "corpus = [document for document in dataset[\"text\"]]\n",
    "\n",
    "# Seleciona apenas o terceiro documento\n",
    "document = corpus[2]\n",
    "\n",
    "print(u\"{}\".format(document))"
   ]
  },
  {
   "cell_type": "code",
   "execution_count": 7,
   "metadata": {},
   "outputs": [
    {
     "data": {
      "text/plain": [
       "'<br><br>Read the full story: <a href=\"https://t.co/2waGuP1Oc2\">https://t.co/2waGuP1Oc2</a><a href=\"https://twitter.com/hashtag/Covid19nfld?src=hash&amp;ref_src=twsrc%5Etfw\">#Covid19nfld</a> <a href=\"https://t.co/Vi92XMwNTv\">pic.twitter.com/Vi92XMwNTv</a>&mdash;@CBCNL In Canada\\'s North,\\xa0\\xa0all of Yukon\\'s 11 '"
      ]
     },
     "execution_count": 7,
     "metadata": {},
     "output_type": "execute_result"
    }
   ],
   "source": [
    "# Exemplo de Tag HTML\n",
    "html_txt = document[12244:12550]\n",
    "\n",
    "html_txt"
   ]
  },
  {
   "cell_type": "code",
   "execution_count": 8,
   "metadata": {},
   "outputs": [
    {
     "data": {
      "text/plain": [
       "\"The latest:  The lives behind the numbers: What we know about the first 1,000 COVID-19 deaths in Canada. Health expert urges provinces to 'find the middle ground' as they begin to reopen. Canadians have lost more than $1.2 million to COVID-19 scams.\""
      ]
     },
     "execution_count": 8,
     "metadata": {},
     "output_type": "execute_result"
    }
   ],
   "source": [
    "# Exemplo de Número\n",
    "num_txt = document[:249]\n",
    "\n",
    "num_txt"
   ]
  },
  {
   "cell_type": "code",
   "execution_count": 9,
   "metadata": {},
   "outputs": [
    {
     "data": {
      "text/plain": [
       "'Úá à éó ão ção üä íï'"
      ]
     },
     "execution_count": 9,
     "metadata": {},
     "output_type": "execute_result"
    }
   ],
   "source": [
    "# Exemplo de texto com acentuação\n",
    "acc_txt = \"Úá à éó ão ção üä íï\"\n",
    "\n",
    "acc_txt"
   ]
  },
  {
   "cell_type": "code",
   "execution_count": 10,
   "metadata": {},
   "outputs": [
    {
     "data": {
      "text/plain": [
       "'<br><br>Read the full story: <a href=\"https://t.co/2waGuP1Oc2\">https://t.co/2waGuP1Oc2</a><a href=\"https://twitter.com/hashtag/Covid19nfld?src=hash&amp;ref_src=twsrc%5Etfw\">#Covid19nfld</a> <a href=\"https://t.co/Vi92XMwNTv\">pic.twitter.com/Vi92XMwNTv</a>&mdash;@CBCNL In Canada\\'s North,\\xa0\\xa0all of Yukon\\'s 11  The latest:  The lives behind the numbers: What we know about the first 1,000 COVID-19 deaths in Canada. Health expert urges provinces to \\'find the middle ground\\' as they begin to reopen. Canadians have lost more than $1.2 million to COVID-19 scams. Úá à éó ão ção üä íï'"
      ]
     },
     "execution_count": 10,
     "metadata": {},
     "output_type": "execute_result"
    }
   ],
   "source": [
    "# Concatena todos os exemplos para termos um texto rico em \"lixo\"\n",
    "bad_txt = \" \".join([html_txt, num_txt, acc_txt])\n",
    "\n",
    "bad_txt"
   ]
  },
  {
   "cell_type": "markdown",
   "metadata": {},
   "source": [
    "## Remoção de tags HTML\n",
    "\n",
    "Muitos textos provém de _crawlers_ que acabam retornando muitos \"lixos\" junto com o material de interesse. Um destes \"lixos\" são tags HTML."
   ]
  },
  {
   "cell_type": "markdown",
   "metadata": {},
   "source": [
    "Remove apenas as tags HTML (incluindo parâmetros), mantendo o texto contido nelas:"
   ]
  },
  {
   "cell_type": "code",
   "execution_count": 11,
   "metadata": {},
   "outputs": [
    {
     "data": {
      "text/plain": [
       "\"Read the full story: https://t.co/2waGuP1Oc2#Covid19nfld pic.twitter.com/Vi92XMwNTv—@CBCNL In Canada's North,\\xa0\\xa0all of Yukon's 11 \""
      ]
     },
     "execution_count": 11,
     "metadata": {},
     "output_type": "execute_result"
    }
   ],
   "source": [
    "from bs4 import BeautifulSoup\n",
    "\n",
    "\n",
    "def strip_html_tags(text, separator=\"\"):\n",
    "    parser = BeautifulSoup(text, \"html.parser\")\n",
    "    \n",
    "    return parser.get_text(separator=separator)\n",
    "\n",
    "\n",
    "strip_html_tags(html_txt)"
   ]
  },
  {
   "cell_type": "markdown",
   "metadata": {},
   "source": [
    "Remove as tags e o conteúdo:"
   ]
  },
  {
   "cell_type": "code",
   "execution_count": 12,
   "metadata": {},
   "outputs": [
    {
     "data": {
      "text/plain": [
       "\"&mdash;@CBCNL In Canada's North,\\xa0\\xa0all of Yukon's 11 \""
      ]
     },
     "execution_count": 12,
     "metadata": {},
     "output_type": "execute_result"
    }
   ],
   "source": [
    "import re\n",
    "\n",
    "\n",
    "def delete_html_nodes(text):\n",
    "    regex = re.compile(\"<.+>\")\n",
    "    \n",
    "    return re.sub(regex, \"\", text)\n",
    "\n",
    "\n",
    "delete_html_nodes(html_txt)"
   ]
  },
  {
   "cell_type": "markdown",
   "metadata": {},
   "source": [
    "## Tratamento para Acentuação\n",
    "\n",
    "Caracteres acentuados como `à`, `ä` e `é` introduzem distinções (por exemplo `a` $\\neq$ `à` $\\neq$ `á`) indesejadas, que em etapas posteriores ao pré-processamento resultarão em problemas maiores.\n",
    "\n",
    "Para evitar isto, basta remover estas acentuações. Uma forma simples de fazê-lo é converter caracteres no formato unicode para o formato ascii."
   ]
  },
  {
   "cell_type": "code",
   "execution_count": 13,
   "metadata": {},
   "outputs": [
    {
     "data": {
      "text/plain": [
       "'Ua a eo ao cao ua ii'"
      ]
     },
     "execution_count": 13,
     "metadata": {},
     "output_type": "execute_result"
    }
   ],
   "source": [
    "import unidecode\n",
    "\n",
    "def utf8_to_ascii(text):\n",
    "    return unidecode.unidecode(text)\n",
    "\n",
    "\n",
    "utf8_to_ascii(acc_txt)"
   ]
  },
  {
   "cell_type": "markdown",
   "metadata": {},
   "source": [
    "## Tokenização\n",
    "\n",
    "A tokenização é o processo de dividir um documento em unidades menores, chamadas tokens. A divisão ocorre nos locais onde um termo começa e outro termina, como por exemplo espaços em branco, potuação, etc."
   ]
  },
  {
   "cell_type": "code",
   "execution_count": 14,
   "metadata": {},
   "outputs": [
    {
     "name": "stdout",
     "output_type": "stream",
     "text": [
      "\u001b[38;5;2m✔ Download and installation successful\u001b[0m\n",
      "You can now load the model via spacy.load('en_core_web_md')\n"
     ]
    },
    {
     "data": {
      "text/plain": [
       "[[<,\n",
       "  br><br,\n",
       "  >,\n",
       "  Read,\n",
       "  the,\n",
       "  full,\n",
       "  story,\n",
       "  :,\n",
       "  <,\n",
       "  a,\n",
       "  href=\"https://t.co/2waGuP1Oc2\">https://t.co/2waGuP1Oc2</a><a,\n",
       "  href=\"https://twitter.com,\n",
       "  /,\n",
       "  hashtag,\n",
       "  /,\n",
       "  Covid19nfld?src,\n",
       "  =,\n",
       "  hash&amp;ref_src,\n",
       "  =,\n",
       "  twsrc%5Etfw\">#Covid19nfld</a,\n",
       "  >,\n",
       "  <,\n",
       "  a,\n",
       "  href=\"https://t.co,\n",
       "  /,\n",
       "  Vi92XMwNTv\">pic.twitter.com,\n",
       "  /,\n",
       "  Vi92XMwNTv</a>&mdash;@CBCNL,\n",
       "  In,\n",
       "  Canada,\n",
       "  's,\n",
       "  North,\n",
       "  ,,\n",
       "    ,\n",
       "  all,\n",
       "  of,\n",
       "  Yukon,\n",
       "  's,\n",
       "  11,\n",
       "   ,\n",
       "  The,\n",
       "  latest,\n",
       "  :,\n",
       "   ,\n",
       "  The,\n",
       "  lives,\n",
       "  behind,\n",
       "  the,\n",
       "  numbers,\n",
       "  :,\n",
       "  What,\n",
       "  we,\n",
       "  know,\n",
       "  about,\n",
       "  the,\n",
       "  first,\n",
       "  1,000,\n",
       "  COVID-19,\n",
       "  deaths,\n",
       "  in,\n",
       "  Canada,\n",
       "  .,\n",
       "  Health,\n",
       "  expert,\n",
       "  urges,\n",
       "  provinces,\n",
       "  to,\n",
       "  ',\n",
       "  find,\n",
       "  the,\n",
       "  middle,\n",
       "  ground,\n",
       "  ',\n",
       "  as,\n",
       "  they,\n",
       "  begin,\n",
       "  to,\n",
       "  reopen,\n",
       "  .,\n",
       "  Canadians,\n",
       "  have,\n",
       "  lost,\n",
       "  more,\n",
       "  than,\n",
       "  $,\n",
       "  1.2,\n",
       "  million,\n",
       "  to,\n",
       "  COVID-19,\n",
       "  scams,\n",
       "  .,\n",
       "  Úá,\n",
       "  à,\n",
       "  éó,\n",
       "  ão,\n",
       "  ção,\n",
       "  üä,\n",
       "  íï]]"
      ]
     },
     "execution_count": 14,
     "metadata": {},
     "output_type": "execute_result"
    }
   ],
   "source": [
    "import spacy\n",
    "spacy.cli.download(\"en_core_web_md\")\n",
    "\n",
    "def tokenize(corpus):\n",
    "    nlp = spacy.load(\"en_core_web_md\")\n",
    "    \n",
    "    tokens = []\n",
    "    for document in corpus:\n",
    "        spacy_doc = nlp(document)\n",
    "        \n",
    "        tokens.append([token for token in spacy_doc])\n",
    "            \n",
    "    return tokens\n",
    "\n",
    "\n",
    "tokenize([bad_txt])"
   ]
  },
  {
   "cell_type": "markdown",
   "metadata": {},
   "source": [
    "## Tratamento para Números\n",
    "\n",
    "É comum encontrarmos valores numéricos em meio ao texto. Em geral, tais informações não são consideradas relevantes - números podem ser muito frequentes - no entanto, em determinadas situações, manter os números no resultado final pode ser de extrema importância.\n",
    "\n",
    "Veremos como tratar ambos os casos."
   ]
  },
  {
   "cell_type": "markdown",
   "metadata": {},
   "source": [
    "Se deseja-se remover os números, podemos iniciar convertendo os números que estão em forma escrita para algarismos arábicos (dígitos)."
   ]
  },
  {
   "cell_type": "code",
   "execution_count": 20,
   "metadata": {},
   "outputs": [
    {
     "data": {
      "text/plain": [
       "[president, ,, first, century]"
      ]
     },
     "execution_count": 20,
     "metadata": {},
     "output_type": "execute_result"
    }
   ],
   "source": [
    "def word2number(tokens):\n",
    "    _tokens = []\n",
    "    for token in tokens:\n",
    "        if token.pos_ == \"NUM\":\n",
    "            continue\n",
    "        else:\n",
    "            _tokens.append(token)\n",
    "    \n",
    "    \n",
    "    return _tokens\n",
    "\n",
    "\n",
    "word2number(tokenize([\"One president, twenty first century\"])[0])"
   ]
  },
  {
   "cell_type": "markdown",
   "metadata": {},
   "source": [
    "Se deseja-se manter os números, convertê-los para um formato textual é uma decisão importante."
   ]
  },
  {
   "cell_type": "code",
   "execution_count": 29,
   "metadata": {},
   "outputs": [
    {
     "name": "stdout",
     "output_type": "stream",
     "text": [
      "one point two\n",
      "1000\n"
     ]
    },
    {
     "data": {
      "text/plain": [
       "['one thousand', people, ,, 1.2]"
      ]
     },
     "execution_count": 29,
     "metadata": {},
     "output_type": "execute_result"
    }
   ],
   "source": [
    "from num2words import num2words as n2w\n",
    "\n",
    "\n",
    "def number2word(tokens):\n",
    "    _tokens = []\n",
    "    for token in tokens:\n",
    "        if token.is_digit:\n",
    "            print(token)\n",
    "            _tokens.append(n2w(token.text))\n",
    "        else:\n",
    "            _tokens.append(token)\n",
    "    \n",
    "    \n",
    "    return _tokens\n",
    "\n",
    "print(n2w(\"1.2\"))\n",
    "\n",
    "number2word(tokenize([\"1000 people, 1.2\"])[0])"
   ]
  },
  {
   "cell_type": "markdown",
   "metadata": {},
   "source": [
    "## Remoção de Stop Words\n",
    "\n",
    "_Stop Words_ são palavras muito comuns e que não carregam (na maioria dos casos) significado próprio. Tais palavras podem enviezar os resultados de modelos, portanto seu tratamento é de extrema importância."
   ]
  },
  {
   "cell_type": "code",
   "execution_count": 35,
   "metadata": {},
   "outputs": [
    {
     "data": {
      "text/plain": [
       "[latest,\n",
       " :,\n",
       "  ,\n",
       " lives,\n",
       " numbers,\n",
       " :,\n",
       " know,\n",
       " 1,000,\n",
       " COVID-19,\n",
       " deaths,\n",
       " Canada,\n",
       " .,\n",
       " Health,\n",
       " expert,\n",
       " urges,\n",
       " provinces,\n",
       " ',\n",
       " find,\n",
       " mi]"
      ]
     },
     "execution_count": 35,
     "metadata": {},
     "output_type": "execute_result"
    }
   ],
   "source": [
    "def remove_stop_words(tokens):\n",
    "    _tokens = []\n",
    "    for token in tokens:\n",
    "        if not token.is_stop:\n",
    "            _tokens.append(token)\n",
    "            \n",
    "    return _tokens\n",
    "\n",
    "remove_stop_words(tokenize([document[:150]])[0])"
   ]
  },
  {
   "cell_type": "markdown",
   "metadata": {},
   "source": [
    "## Lematização e _Stemming_\n",
    "\n",
    "Os processos de lematização e de _stemming_ possuem o mesmo objetivo: reduzir formas flexionadas de linguagem (por exemplo verbos conjugados) para seu formato elementar. A diferença básica entre as técnicas é, sem muito rigor, que a lematização é um processo mais inteligente, capaz de encontrar os radicais mesmo para verbos irregulares (para o caso em que a palavra analisada é um verbo :)). Em geral, utilizar a lematização elimina a necessidade de _stemming_, e portanto utilizaremos apenas ela."
   ]
  },
  {
   "cell_type": "code",
   "execution_count": 19,
   "metadata": {},
   "outputs": [
    {
     "data": {
      "text/plain": [
       "['<',\n",
       " 'br><br',\n",
       " '>',\n",
       " 'read',\n",
       " 'the',\n",
       " 'full',\n",
       " 'story',\n",
       " ':',\n",
       " '<',\n",
       " 'a',\n",
       " 'href=\"https://t.co/2wagup1oc2\">https://t.co/2wagup1oc2</a><a',\n",
       " 'href=\"https://twitter.com',\n",
       " '/',\n",
       " 'hashtag',\n",
       " '/',\n",
       " 'Covid19nfld?src',\n",
       " '=',\n",
       " 'hash&amp;ref_src',\n",
       " '=',\n",
       " 'twsrc%5Etfw\">#Covid19nfld</a',\n",
       " '>',\n",
       " '<',\n",
       " 'a',\n",
       " 'href=\"https://t.co',\n",
       " '/',\n",
       " 'vi92xmwntv\">pic.twitter.com',\n",
       " '/',\n",
       " 'vi92xmwntv</a>&mdash;@cbcnl',\n",
       " 'in',\n",
       " 'Canada',\n",
       " \"'s\",\n",
       " 'North',\n",
       " ',',\n",
       " '\\xa0\\xa0',\n",
       " 'all',\n",
       " 'of',\n",
       " 'Yukon',\n",
       " \"'s\",\n",
       " '11',\n",
       " ' ',\n",
       " 'the',\n",
       " 'late',\n",
       " ':',\n",
       " ' ',\n",
       " 'the',\n",
       " 'life',\n",
       " 'behind',\n",
       " 'the',\n",
       " 'number',\n",
       " ':',\n",
       " 'what',\n",
       " '-PRON-',\n",
       " 'know',\n",
       " 'about',\n",
       " 'the',\n",
       " 'first',\n",
       " '1,000',\n",
       " 'covid-19',\n",
       " 'death',\n",
       " 'in',\n",
       " 'Canada',\n",
       " '.',\n",
       " 'health',\n",
       " 'expert',\n",
       " 'urge',\n",
       " 'province',\n",
       " 'to',\n",
       " \"'\",\n",
       " 'find',\n",
       " 'the',\n",
       " 'middle',\n",
       " 'ground',\n",
       " \"'\",\n",
       " 'as',\n",
       " '-PRON-',\n",
       " 'begin',\n",
       " 'to',\n",
       " 'reopen',\n",
       " '.',\n",
       " 'Canadians',\n",
       " 'have',\n",
       " 'lose',\n",
       " 'more',\n",
       " 'than',\n",
       " '$',\n",
       " '1.2',\n",
       " 'million',\n",
       " 'to',\n",
       " 'COVID-19',\n",
       " 'scam',\n",
       " '.',\n",
       " 'Úá',\n",
       " 'à',\n",
       " 'éó',\n",
       " 'ão',\n",
       " 'ção',\n",
       " 'üä',\n",
       " 'íï']"
      ]
     },
     "execution_count": 19,
     "metadata": {},
     "output_type": "execute_result"
    }
   ],
   "source": [
    "def lemmatize(document):\n",
    "    lemmatized = []\n",
    "    for token in document:\n",
    "        lemmatized.append(token.lemma_)\n",
    "        \n",
    "    return lemmatized\n",
    "\n",
    "\n",
    "lemmatize(tokenize([bad_txt])[0])"
   ]
  },
  {
   "cell_type": "markdown",
   "metadata": {},
   "source": [
    "\n",
    "## Exercício\n",
    "\n",
    "Agora, você irá realizar o pré-processamento de texto em um conjunto de dados novo: o _[IMDB Dataset of 50K Movie Reviews](https://www.kaggle.com/lakshmi25npathi/imdb-dataset-of-50k-movie-reviews)_.\n",
    "\n",
    "1. Baixe o arquivo localizado [neste link](https://www.kaggle.com/lakshmi25npathi/imdb-dataset-of-50k-movie-reviews/download);\n",
    "2. Inspecione e estudo o conteúdo do arquivo (isto pode ser feito utilizando a [página do _contest_ no Kaggle](https://www.kaggle.com/lakshmi25npathi/imdb-dataset-of-50k-movie-reviews));\n",
    "3. Construa um _pipeline_ de pré-processamento para o dataset.\n",
    "\n",
    "**IMPORTANTE:** Ao construir seu _pipeline_, pense em quais informações seriam úteis (e quais não) para classificar uma avaliação como `positiva` ou `negativa`."
   ]
  },
  {
   "cell_type": "markdown",
   "metadata": {},
   "source": [
    "## Referências\n",
    "\n",
    "[1] [All you need to know about text preprocessing for NLP and Machine Learning](https://www.kdnuggets.com/2019/04/text-preprocessing-nlp-machine-learning.html);\n",
    "\n",
    "[2] [NLP Text Preprocessing: A Practical Guide and Template](https://towardsdatascience.com/nlp-text-preprocessing-a-practical-guide-and-template-d80874676e79);"
   ]
  }
 ],
 "metadata": {
  "kernelspec": {
   "display_name": "Python 3",
   "language": "python",
   "name": "python3"
  },
  "language_info": {
   "codemirror_mode": {
    "name": "ipython",
    "version": 3
   },
   "file_extension": ".py",
   "mimetype": "text/x-python",
   "name": "python",
   "nbconvert_exporter": "python",
   "pygments_lexer": "ipython3",
   "version": "3.8.5"
  }
 },
 "nbformat": 4,
 "nbformat_minor": 4
}
