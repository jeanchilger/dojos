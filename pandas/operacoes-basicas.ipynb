{
 "cells": [
  {
   "cell_type": "markdown",
   "id": "fatty-scanner",
   "metadata": {},
   "source": [
    "<p align=\"center\">\n",
    "  <img src=\"https://pandas.pydata.org/static/img/pandas_secondary.svg\" width=\"450\">\n",
    "</p>\n",
    "\n",
    "Lista de conteúdos\n",
    "---------------------------\n",
    "\n",
    "[Visão Geral](#Visão-Geral)\n",
    "\n",
    "[Vantagens](#Vantagens)\n",
    "\n",
    "[Tipos de Dados](#Tipos-de-Dados)\n",
    "\n",
    "[Lendo o dataset](#Lendo-o-dataset)\n",
    "\n",
    "[Acessando colunas](#Acessando-colunas)\n",
    "\n",
    "[Filtrando linhas do dataset](#Filtrando-linhas-do-dataset)\n",
    "\n",
    "[Filtrando linhas e colunas do dataset](#Filtrando-linhas-e-colunas-do-dataset)\n",
    "\n",
    "[Funções úteis](#Funções-úteis)\n",
    "\n",
    "[Referências](#Referências)\n",
    "\n",
    "\n",
    "## Visão Geral\n",
    "\n",
    " - Biblioteca para manipulação e análise de dados;\n",
    " - Oferece um conjunto de funções para operar dados tabulares (2D) e séries temporais (1D);\n",
    " - Usado na área de finanças, estatística, ciências sociais, e muitas áreas da engenharia;\n",
    " - Alternativa para a linguagem **R**;\n",
    " \n",
    "## Vantagens\n",
    " \n",
    " - Facilidade em tratar informações faltantes;\n",
    " - Colunas podem ser facilmente excluídas ou adicionadas;\n",
    " - Conversão de tipos;\n",
    " - Visualização dos dados;\n",
    " - Rápido;"
   ]
  },
  {
   "cell_type": "markdown",
   "id": "psychological-diana",
   "metadata": {},
   "source": [
    " \n",
    "## Tipos de Dados\n",
    "### Series\n",
    " \n",
    " - Lista de valores rotulados e de tipo único;\n",
    " - Possuem somente uma dimensão;\n",
    " \n",
    " <img src=\"https://pandas.pydata.org/docs/_images/01_table_series.svg\">\n",
    " <p style=\"text-align:center;\">\n",
    "    <small>\n",
    "        Fonte: Documentação do Pandas [1]\n",
    "    </small>\n",
    " </p>"
   ]
  },
  {
   "cell_type": "code",
   "execution_count": null,
   "id": "invisible-toilet",
   "metadata": {},
   "outputs": [],
   "source": [
    "import pandas as pd\n",
    "frequencia_cardiaca = pd.Series(\n",
    "    [82, 82, 84, 96, 95, 86, 84, 88, 90, 95, 102])\n",
    "\"\"\"\n",
    "[\"inst1\", \"inst2\",\"inst3\",\"inst4\",\"inst5\",\n",
    "    \"inst6\",\"inst7\",\"inst8\",\"inst9\",\"inst10\",\n",
    "    \"inst11\"]\n",
    "\"\"\"\n",
    "frequencia_cardiaca.iloc[0:4]"
   ]
  },
  {
   "cell_type": "markdown",
   "id": "painted-boost",
   "metadata": {},
   "source": [
    " ### DataFrame\n",
    "  - Matrix 2D de valores rotulados;\n",
    "  - Tipos diversos;\n",
    "  - Tamanho mutável;\n",
    "  - Semelhante à uma panilha/excel ou uma tabela SQL;\n",
    "  - Cada coluna de um `DataFrame` é do tipo `Series`;\n",
    "  \n",
    "<img src=\"https://pandas.pydata.org/docs/_images/01_table_dataframe.svg\" />\n",
    "\n",
    "<p style=\"text-align:center;\">    \n",
    "    <small>\n",
    "        <b>Fonte</b>:\n",
    "        Documentação do Pandas [1]\n",
    "    </small>\n",
    "</p>"
   ]
  },
  {
   "cell_type": "markdown",
   "id": "comparative-intellectual",
   "metadata": {},
   "source": [
    "## Lendo o dataset\n",
    "\n",
    "![](https://pandas.pydata.org/docs/_images/02_io_readwrite.svg)\n",
    "\n",
    "<p style=\"text-align:center;\">\n",
    "    <small>\n",
    "        <b>Fonte</b>:\n",
    "        Documentação do Pandas [1]\n",
    "    </small>\n",
    "</p>"
   ]
  },
  {
   "cell_type": "markdown",
   "id": "beautiful-cancellation",
   "metadata": {},
   "source": [
    " #### Lendo dados de um arquivo CSV"
   ]
  },
  {
   "cell_type": "code",
   "execution_count": null,
   "id": "exact-corps",
   "metadata": {},
   "outputs": [],
   "source": [
    "import pandas as pd\n",
    "dataset = pd.read_csv(\"../datasets/country_vaccinations.csv\")\n",
    "dataset.head(4)"
   ]
  },
  {
   "cell_type": "markdown",
   "id": "clean-equilibrium",
   "metadata": {},
   "source": [
    "<p style=\"text-align: center;\">\n",
    "    <small>\n",
    "        <b>Fonte</b>: Progresso da vacinação mundialmente\n",
    "    </small>\n",
    "</p>"
   ]
  },
  {
   "cell_type": "markdown",
   "id": "detailed-working",
   "metadata": {},
   "source": [
    "<h1 style=\"text-align: center;\"> Descrição do dataset </h1>\n",
    "\n",
    "\n",
    "|                                         |          |\n",
    "|:----------------------------------------|:---------|\n",
    "| **contry**                              |   País   |\n",
    "| **iso_code**                            |   Sigla  |\n",
    "| **date**                                |   Data em que as informações seguintes se referem   |\n",
    "| **total_vaccinations**                  |   Valor absoluto de imunizações no país (pode ser maior que o número de pessoas)  |\n",
    "| **people_vaccinated**                   |   Número de pessoas vacinadas   |\n",
    "| **people_fully_vaccinated**             |   Número de pessoas que tomaram as 2 doses da vacina   |\n",
    "| **daily_vaccinations_raw**              |   Número de vacinações diárias de um país   |\n",
    "| **daily_vaccinations**                  |   Número de vacinações diárias de um país   |\n",
    "| **total_vaccinations_per_hundred**      |   Percentual de imunizações em relação a população total do país   |\n",
    "| **people_vaccinated_per_hundred**       |   Percentual de pessoas imunizadas em relação a população total do país   |\n",
    "| **people_fully_vaccinated_per_hundred** |   Percentual entre a quantidade de pessoas que tomaram a 2ª dose da vacina e a população do país   |\n",
    "|    **daily_vaccinations_per_million**   |   Razão entre o número de pessoas vacinadas e a população total do país   |\n",
    "| **vaccines**                            |   Vacinas sendo aplicadas no país  |\n",
    "| **source_name**                         |   Organização que compilou os dados   |\n",
    "| **source_website**                      |   Website que apresenta os dados   |"
   ]
  },
  {
   "cell_type": "markdown",
   "id": "administrative-cherry",
   "metadata": {},
   "source": [
    "### Mostrando informações do dataset"
   ]
  },
  {
   "cell_type": "code",
   "execution_count": null,
   "id": "false-telescope",
   "metadata": {},
   "outputs": [],
   "source": [
    "dataset.shape"
   ]
  },
  {
   "cell_type": "code",
   "execution_count": null,
   "id": "painted-invasion",
   "metadata": {},
   "outputs": [],
   "source": [
    "dataset.columns"
   ]
  },
  {
   "cell_type": "code",
   "execution_count": null,
   "id": "rotary-album",
   "metadata": {},
   "outputs": [],
   "source": [
    "dataset.info()"
   ]
  },
  {
   "cell_type": "code",
   "execution_count": null,
   "id": "dramatic-laser",
   "metadata": {},
   "outputs": [],
   "source": [
    "dataset.describe()"
   ]
  },
  {
   "cell_type": "markdown",
   "id": "romance-illinois",
   "metadata": {},
   "source": [
    "\n",
    "## Acessando colunas\n",
    "\n",
    "![](https://pandas.pydata.org/docs/_images/03_subset_columns.svg)\n",
    "\n",
    "<p style=\"text-align:center;\">\n",
    "    <b>Fonte</b>: Documentação do Pandas [1]\n",
    "</p>"
   ]
  },
  {
   "cell_type": "code",
   "execution_count": null,
   "id": "durable-strand",
   "metadata": {},
   "outputs": [],
   "source": [
    "dataset[\"country\"] # Seleção de uma única coluna "
   ]
  },
  {
   "cell_type": "code",
   "execution_count": null,
   "id": "tested-coupon",
   "metadata": {},
   "outputs": [],
   "source": [
    "dataset[\"country\"].shape"
   ]
  },
  {
   "cell_type": "code",
   "execution_count": null,
   "id": "flexible-rings",
   "metadata": {},
   "outputs": [],
   "source": [
    "dataset[[\"country\", \"date\", \"daily_vaccinations_raw\"]] # Seleção de várias colunas"
   ]
  },
  {
   "cell_type": "markdown",
   "id": "suspected-accountability",
   "metadata": {},
   "source": [
    "## Filtrando linhas do dataset\n",
    "\n",
    "![](https://pandas.pydata.org/docs/_images/03_subset_rows.svg)\n",
    " \n",
    " <p style=\"text-align:center;\">\n",
    "    <b>Fonte</b>: Documentação do Pandas [1]\n",
    "</p>"
   ]
  },
  {
   "cell_type": "code",
   "execution_count": null,
   "id": "experienced-marijuana",
   "metadata": {},
   "outputs": [],
   "source": [
    "# Selecionar o andamento da vacinação no Brasil.\n",
    "\n",
    "imunization_in_brazil = dataset[dataset[\"country\"] == \"Brazil\"]\n",
    "imunization_in_brazil[[\"country\", \"total_vaccinations\", \"date\", \"source_name\"]]"
   ]
  },
  {
   "cell_type": "code",
   "execution_count": null,
   "id": "static-lesson",
   "metadata": {},
   "outputs": [],
   "source": [
    "# Selecionar as informações da última quinta e sexta-feira.\n",
    "\n",
    "last_thursday = \"2021-02-25\"\n",
    "last_friday = \"2021-02-26\"\n",
    "\n",
    "imunization_in_brazil[\n",
    "    (imunization_in_brazil[\"date\"] == last_friday) |\n",
    "    (imunization_in_brazil[\"date\"] == last_thursday)]"
   ]
  },
  {
   "cell_type": "markdown",
   "id": "brutal-passage",
   "metadata": {},
   "source": [
    "## Filtrando linhas e colunas do dataset\n",
    "\n",
    "\n",
    " ![](https://pandas.pydata.org/docs/_images/03_subset_columns_rows.svg)\n",
    " \n",
    " <p style=\"text-align:center;\">\n",
    "    <b>Fonte</b>: Documentação do Pandas [1]\n",
    "</p>"
   ]
  },
  {
   "cell_type": "markdown",
   "id": "higher-count",
   "metadata": {},
   "source": [
    "### Filtrando através de labels"
   ]
  },
  {
   "cell_type": "code",
   "execution_count": null,
   "id": "pleasant-failing",
   "metadata": {},
   "outputs": [],
   "source": [
    "# Selecionar o total de pessoas vacinadas\n",
    "# na última sexta-feira no Brazil e na Argentina.\n",
    "\n",
    "imunization_br_arg = dataset[\n",
    "    (dataset[\"country\"] == \"Brazil\") | (dataset[\"country\"] == \"Argentina\")]\n",
    "imunization_br_arg"
   ]
  },
  {
   "cell_type": "code",
   "execution_count": null,
   "id": "induced-falls",
   "metadata": {},
   "outputs": [],
   "source": [
    "# Intervalo de labels\n",
    "\n",
    "thu_friday_br_arg = imunization_br_arg.loc[\n",
    "    (imunization_br_arg[\"date\"] == last_friday) |\n",
    "    (imunization_br_arg[\"date\"] == last_thursday),\n",
    "    \"country\":\"people_fully_vaccinated\"\n",
    "]\n",
    "thu_friday_br_arg"
   ]
  },
  {
   "cell_type": "code",
   "execution_count": null,
   "id": "needed-plate",
   "metadata": {},
   "outputs": [],
   "source": [
    "# Conjunto de labels\n",
    "\n",
    "thu_friday_br_arg.loc[:, [\"country\", \"date\", \"people_vaccinated\"]]"
   ]
  },
  {
   "cell_type": "markdown",
   "id": "noted-palmer",
   "metadata": {},
   "source": [
    "### Filtrando através de índices "
   ]
  },
  {
   "cell_type": "code",
   "execution_count": null,
   "id": "constitutional-particular",
   "metadata": {},
   "outputs": [],
   "source": [
    "thu_friday_br_arg = imunization_br_arg.loc[\n",
    "    (imunization_br_arg[\"date\"] == last_friday) |\n",
    "    (imunization_br_arg[\"date\"] == last_thursday)\n",
    "]\n",
    "\n",
    "thu_friday_br_arg"
   ]
  },
  {
   "cell_type": "code",
   "execution_count": null,
   "id": "literary-consideration",
   "metadata": {},
   "outputs": [],
   "source": [
    "thu_friday_br_arg.iloc[:1, :]"
   ]
  },
  {
   "cell_type": "code",
   "execution_count": null,
   "id": "refined-fabric",
   "metadata": {},
   "outputs": [],
   "source": [
    "thu_friday_br_arg.iloc[:3, 0:5]"
   ]
  },
  {
   "cell_type": "markdown",
   "id": "passive-algebra",
   "metadata": {},
   "source": [
    "\n",
    "## Funções úteis"
   ]
  },
  {
   "cell_type": "markdown",
   "id": "attractive-cholesterol",
   "metadata": {},
   "source": [
    "### isin\n",
    "\n",
    "Verifica se os valores de uma coluna estão presente da lista passada como parâmetro"
   ]
  },
  {
   "cell_type": "code",
   "execution_count": null,
   "id": "headed-migration",
   "metadata": {},
   "outputs": [],
   "source": [
    "im_br_arg_ch = dataset[\n",
    "    dataset[\"country\"].isin(\n",
    "        [\"Brazil\", \"Argentina\", \"Chile\"])\n",
    "]\n",
    "\n",
    "im_br_arg_ch.loc[\n",
    "    im_br_arg_ch[\"date\"].isin([last_thursday, last_friday]),\n",
    "    [\"country\", \"date\", \"vaccines\"]\n",
    "]\n"
   ]
  },
  {
   "cell_type": "markdown",
   "id": "statutory-schema",
   "metadata": {},
   "source": [
    "### value_counts\n",
    "\n",
    "Conta o número de entradas em cada categoria (e.g **\"Brasil\"**, **\"Sinovac\"**) de uma variável (e.g **country**, **vaccine**)"
   ]
  },
  {
   "cell_type": "code",
   "execution_count": null,
   "id": "dress-pressing",
   "metadata": {},
   "outputs": [],
   "source": [
    "amount_of_days = dataset[\"country\"].value_counts()\n",
    "print(\"Imunização no Brasil iniciou à\", amount_of_days[\"Brazil\"], \"dias\")"
   ]
  },
  {
   "cell_type": "markdown",
   "id": "imperial-reward",
   "metadata": {},
   "source": [
    "### fillna (fill NaN)\n",
    "\n",
    "Substitui valores nulos com o valor especificado"
   ]
  },
  {
   "cell_type": "code",
   "execution_count": null,
   "id": "collected-steel",
   "metadata": {},
   "outputs": [],
   "source": [
    "people_fully_vaccinated_br = dataset.loc[\n",
    "    dataset[\"country\"] == \"Brazil\",\n",
    "    [\"country\", \"date\", \"people_fully_vaccinated\"]]\n",
    "\n",
    "filled_with_zeros = people_fully_vaccinated_br[\"people_fully_vaccinated\"].fillna(0)\n",
    "\n",
    "people_fully_vaccinated_br[\"people_fully_vaccinated\"] = filled_with_zeros\n",
    "\n",
    "people_fully_vaccinated_br\n"
   ]
  },
  {
   "cell_type": "markdown",
   "id": "subjective-vector",
   "metadata": {},
   "source": [
    "### Nunique (number of unique)\n",
    "\n",
    "Conta a quantidade de valores distintos que a coluna especificada tem"
   ]
  },
  {
   "cell_type": "code",
   "execution_count": null,
   "id": "republican-benchmark",
   "metadata": {},
   "outputs": [],
   "source": [
    "country_amount = dataset[\"country\"].nunique()\n",
    "print(\"Quantidade de países distintos presentes no dataset é\", country_amount)"
   ]
  },
  {
   "cell_type": "markdown",
   "id": "civil-astronomy",
   "metadata": {},
   "source": [
    "### Sort\n",
    "\n",
    "Ordena os valores de uma coluna"
   ]
  },
  {
   "cell_type": "code",
   "execution_count": null,
   "id": "offshore-relation",
   "metadata": {},
   "outputs": [],
   "source": [
    "# Ordenar os países pela taxa de pessoas vacinadas complementamente (%)\n",
    "\n",
    "imun_last_friday = dataset[dataset[\"date\"] == last_friday]\n",
    "\n",
    "imun_last_friday = imun_last_friday.loc[\n",
    "    imun_last_friday[\"people_fully_vaccinated_per_hundred\"].notna(),\n",
    "    [\"country\",\"date\",\"people_fully_vaccinated_per_hundred\"]]\n",
    "\n",
    "imun_last_friday = imun_last_friday.sort_values(by=\"people_fully_vaccinated_per_hundred\", ascending=False)\n",
    "\n",
    "imun_last_friday[\"rank\"] = [i for i in range(1, imun_last_friday.shape[0]+1)]\n",
    "\n",
    "imun_last_friday"
   ]
  },
  {
   "cell_type": "markdown",
   "id": "crazy-appreciation",
   "metadata": {},
   "source": [
    "### Apply\n",
    "\n",
    "Executa uma função em cada valor de uma coluna."
   ]
  },
  {
   "cell_type": "code",
   "execution_count": null,
   "id": "addressed-corrections",
   "metadata": {},
   "outputs": [],
   "source": [
    "falkland = dataset[dataset[\"country\"] == \"Falkland Islands\"]\n",
    "\n",
    "def format_date(date):\n",
    "    date = date.split(\"-\")\n",
    "    return date[2]+\"/\"+date[1]+\"/\"+date[0]\n",
    "\n",
    "\n",
    "date = falkland[\"date\"].apply(format_date)\n",
    "\n",
    "dataset.loc[:,\"date\"] = date\n",
    "\n",
    "falkland\n"
   ]
  },
  {
   "cell_type": "markdown",
   "id": "spoken-recognition",
   "metadata": {},
   "source": [
    "### Drop\n",
    "\n",
    "Remove linhas ou colunas de um dataframe"
   ]
  },
  {
   "cell_type": "code",
   "execution_count": null,
   "id": "suited-athens",
   "metadata": {},
   "outputs": [],
   "source": [
    "dataset.head(3)"
   ]
  },
  {
   "cell_type": "code",
   "execution_count": null,
   "id": "geographic-bacon",
   "metadata": {},
   "outputs": [],
   "source": [
    "# Remove as colunas do dataframe através de suas labels\n",
    "dataset = dataset.drop([\"iso_code\", \"source_website\"], axis=1)"
   ]
  },
  {
   "cell_type": "code",
   "execution_count": null,
   "id": "protective-guyana",
   "metadata": {},
   "outputs": [],
   "source": [
    "dataset.head(3)"
   ]
  },
  {
   "cell_type": "code",
   "execution_count": null,
   "id": "increasing-mustang",
   "metadata": {},
   "outputs": [],
   "source": [
    "# Remove as linhas do dataframe através de seus índices\n",
    "\n",
    "dataset = dataset.drop([0, 1])"
   ]
  },
  {
   "cell_type": "markdown",
   "id": "sized-qatar",
   "metadata": {},
   "source": [
    "# Referências\n",
    "\n",
    "[[1]](https://pandas.pydata.org/docs) Documentação do Pandas\n",
    "\n",
    "[[2]](https://www.kaggle.com/gpreda/covid-world-vaccination-progress) Dataset do progresso da vacinação mundial contra a Covid-19\n",
    "\n",
    "[[3]](https://www.w3schools.com/python/python_lists_comprehension.asp) Compreensão de listas em python W3Schools\n",
    "\n",
    "[[4]](https://pandas.pydata.org/Pandas_Cheat_Sheet.pdf) Pandas Cheat Sheet"
   ]
  }
 ],
 "metadata": {
  "kernelspec": {
   "display_name": "Python 3",
   "language": "python",
   "name": "python3"
  },
  "language_info": {
   "codemirror_mode": {
    "name": "ipython",
    "version": 3
   },
   "file_extension": ".py",
   "mimetype": "text/x-python",
   "name": "python",
   "nbconvert_exporter": "python",
   "pygments_lexer": "ipython3",
   "version": "3.7.10"
  }
 },
 "nbformat": 4,
 "nbformat_minor": 5
}
